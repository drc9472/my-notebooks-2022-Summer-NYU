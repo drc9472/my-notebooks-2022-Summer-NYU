{
  "nbformat": 4,
  "nbformat_minor": 0,
  "metadata": {
    "colab": {
      "name": "My First Notebook",
      "provenance": [],
      "authorship_tag": "ABX9TyMG15oqmbMqaJTAILhXvk4i",
      "include_colab_link": true
    },
    "kernelspec": {
      "name": "python3",
      "display_name": "Python 3"
    },
    "language_info": {
      "name": "python"
    }
  },
  "cells": [
    {
      "cell_type": "markdown",
      "metadata": {
        "id": "view-in-github",
        "colab_type": "text"
      },
      "source": [
        "<a href=\"https://colab.research.google.com/github/drc9472/my-notebooks-2022-Summer-NYU/blob/main/My_First_Notebook.ipynb\" target=\"_parent\"><img src=\"https://colab.research.google.com/assets/colab-badge.svg\" alt=\"Open In Colab\"/></a>"
      ]
    },
    {
      "cell_type": "code",
      "execution_count": null,
      "metadata": {
        "id": "rM8smyh_usPX"
      },
      "outputs": [],
      "source": [
        ""
      ]
    },
    {
      "cell_type": "markdown",
      "source": [
        "This is some text\n",
        "\n",
        "Written in my language of choice"
      ],
      "metadata": {
        "id": "FJYy5agzwk-8"
      }
    },
    {
      "cell_type": "code",
      "source": [
        "# This is some example Python code\n",
        "# These lines starting with \"#\" are \"comments\"\n",
        "# Remember \"#\" means something different in Markdown than it does in Python\n",
        "\n",
        "print(\"HELLO WORLD!\")\n",
        "\n",
        "x = 2 + 2\n",
        "print(x)"
      ],
      "metadata": {
        "colab": {
          "base_uri": "https://localhost:8080/"
        },
        "id": "Xl_gpxxvweXE",
        "outputId": "fdca960b-1a0b-487e-f0fb-3a38c76fca40"
      },
      "execution_count": 1,
      "outputs": [
        {
          "output_type": "stream",
          "name": "stdout",
          "text": [
            "HELLO WORLD!\n",
            "4\n"
          ]
        }
      ]
    },
    {
      "cell_type": "markdown",
      "source": [
        "# My Heading\n",
        "\n",
        "## Heading Level 2 \n",
        "\n",
        "Here is a list:\n",
        "+ Item 1\n",
        "+ Item 2 \n",
        "+ Item 3\n",
        "\n",
        "Numbered list:\n",
        "\n",
        "1. Item 1\n",
        "2. Item 2\n",
        "3. Item 3\n",
        "\n",
        "Hyperlinks: [link to google](https://www.google.com/)\n",
        "\n",
        "this is a code block (we'll use in README file):\n",
        "\n",
        "```\n",
        "print(\"HELLO\")\n",
        "```\n",
        "\n",
        "For additional Markdown syntax: [Markdown Cheat Sheet](https://www.markdownguide.org/cheat-sheet/)\n",
        "\n"
      ],
      "metadata": {
        "id": "vVMzmkiuwe_J"
      }
    }
  ]
}